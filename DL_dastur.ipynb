{
  "nbformat": 4,
  "nbformat_minor": 0,
  "metadata": {
    "colab": {
      "private_outputs": true,
      "provenance": [],
      "authorship_tag": "ABX9TyMppUg5/sFjwOi1xWiT5hAK",
      "include_colab_link": true
    },
    "kernelspec": {
      "name": "python3",
      "display_name": "Python 3"
    },
    "language_info": {
      "name": "python"
    }
  },
  "cells": [
    {
      "cell_type": "markdown",
      "metadata": {
        "id": "view-in-github",
        "colab_type": "text"
      },
      "source": [
        "<a href=\"https://colab.research.google.com/github/gayratqurbonov/datasets/blob/main/DL_dastur.ipynb\" target=\"_parent\"><img src=\"https://colab.research.google.com/assets/colab-badge.svg\" alt=\"Open In Colab\"/></a>"
      ]
    },
    {
      "cell_type": "code",
      "execution_count": null,
      "metadata": {
        "id": "k9V10Q6Ig5a0"
      },
      "outputs": [],
      "source": [
        "from sklearn.datasets import make_regression\n",
        "from sklearn.neural_network import MLPRegressor\n",
        "import matplotlib.pyplot as plt\n",
        "\n",
        "# data\n",
        "data = make_regression(n_samples=40, n_features=1, noise=10, random_state=42)\n",
        "x_data, y_data = data[0], data[1]\n",
        "\n",
        "# regressiya\n",
        "regression = MLPRegressor(max_iter=2000).fit(x_data, y_data)\n",
        "y_pred = regression.predict(x_data)\n",
        "\n",
        "\n",
        "\n",
        "# plotting\n",
        "plt.scatter(x_data, y_data, label='Haqiqiy data sets')\n",
        "plt.plot(x_data, y_pred, 'r', label='DL dastur')\n",
        "plt.xlabel('X')\n",
        "plt.ylabel('Y')\n",
        "plt.legend()\n"
      ]
    },
    {
      "cell_type": "code",
      "source": [],
      "metadata": {
        "id": "1ipiLW8-hYbw"
      },
      "execution_count": null,
      "outputs": []
    }
  ]
}