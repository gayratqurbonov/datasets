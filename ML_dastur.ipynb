{
  "nbformat": 4,
  "nbformat_minor": 0,
  "metadata": {
    "colab": {
      "private_outputs": true,
      "provenance": [],
      "authorship_tag": "ABX9TyPOLPvRMvYPfLO+3qUubHvF",
      "include_colab_link": true
    },
    "kernelspec": {
      "name": "python3",
      "display_name": "Python 3"
    },
    "language_info": {
      "name": "python"
    }
  },
  "cells": [
    {
      "cell_type": "markdown",
      "metadata": {
        "id": "view-in-github",
        "colab_type": "text"
      },
      "source": [
        "<a href=\"https://colab.research.google.com/github/gayratqurbonov/datasets/blob/main/ML_dastur.ipynb\" target=\"_parent\"><img src=\"https://colab.research.google.com/assets/colab-badge.svg\" alt=\"Open In Colab\"/></a>"
      ]
    },
    {
      "cell_type": "code",
      "execution_count": null,
      "metadata": {
        "id": "Aud5vkxqzdKl"
      },
      "outputs": [],
      "source": [
        "from sklearn.datasets import make_regression\n",
        "from sklearn.linear_model import LinearRegression\n",
        "import matplotlib.pyplot as plt\n",
        "\n",
        "# data\n",
        "data = make_regression(n_samples=40, n_features=1, noise=10, random_state=42)\n",
        "x_data, y_data = data[0], data[1]\n",
        "\n",
        "# regressiya\n",
        "regression = LinearRegression().fit(x_data, y_data)\n",
        "y_pred = regression.predict(x_data)\n",
        "\n",
        "\n",
        "\n",
        "# plotting\n",
        "plt.scatter(x_data, y_data, label='Haqiqiy data sets')\n",
        "plt.plot(x_data, y_pred, 'r', label='ML dastur')\n",
        "plt.xlabel('X')\n",
        "plt.ylabel('Y')\n",
        "plt.legend()\n",
        "equation = f'{regression.coef_[0]:.3f}x+{regression.intercept_:.3f}'\n",
        "plt.title(equation)"
      ]
    },
    {
      "cell_type": "code",
      "source": [],
      "metadata": {
        "id": "gD_B_FUhfoQI"
      },
      "execution_count": null,
      "outputs": []
    }
  ]
}