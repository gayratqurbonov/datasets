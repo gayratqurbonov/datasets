{
  "nbformat": 4,
  "nbformat_minor": 0,
  "metadata": {
    "colab": {
      "private_outputs": true,
      "provenance": [],
      "gpuType": "T4",
      "authorship_tag": "ABX9TyO5TxIoyaKx23/6lnIeSUuV",
      "include_colab_link": true
    },
    "kernelspec": {
      "name": "python3",
      "display_name": "Python 3"
    },
    "language_info": {
      "name": "python"
    },
    "accelerator": "GPU"
  },
  "cells": [
    {
      "cell_type": "markdown",
      "metadata": {
        "id": "view-in-github",
        "colab_type": "text"
      },
      "source": [
        "<a href=\"https://colab.research.google.com/github/gayratqurbonov/datasets/blob/main/MushuklarniTekshiramiz.ipynb\" target=\"_parent\"><img src=\"https://colab.research.google.com/assets/colab-badge.svg\" alt=\"Open In Colab\"/></a>"
      ]
    },
    {
      "cell_type": "code",
      "execution_count": null,
      "metadata": {
        "id": "kQjzbroqK6K5"
      },
      "outputs": [],
      "source": [
        "  # Kutubxonalar\n",
        "  from fastai.vision.all import *\n",
        "  from ipywidgets import widgets\n",
        "\n",
        "  # data\n",
        "  path = untar_data(URLs.PETS)/'images'\n",
        "\n",
        "  # labellovchi funksiya\n",
        "  def is_cat(x): return x[0].isupper()\n",
        "\n",
        "  # datalarni yuklovchi (dataloaders)\n",
        "  dls = ImageDataLoaders.from_name_func(\n",
        "      path, get_image_files(path), valid=0.2, seed=42,\n",
        "      label_func=is_cat, item_tfms=Resize(224)\n",
        "  )\n",
        "\n",
        "  # o'qitish (train)\n",
        "  learn = cnn_learner(dls, resnet34, metrics=accuracy)\n",
        "  learn.fine_tune(2)\n"
      ]
    },
    {
      "cell_type": "code",
      "source": [
        "# rasm yuklash uchun widget\n",
        "upload = widgets.FileUpload()\n",
        "upload"
      ],
      "metadata": {
        "id": "eRqTTXZlLbG6"
      },
      "execution_count": null,
      "outputs": []
    },
    {
      "cell_type": "code",
      "source": [
        "img = PILImage.create(upload.data[-1]) # rasm\n",
        "pred, _, prob = learn.predict(img) # bashorat qilish (predict)\n",
        "print(f'Mushukmi?: {pred}')\n",
        "print(f'Aniqlik ehtimoligi: {prob[1].item():.3f}')\n",
        "img"
      ],
      "metadata": {
        "id": "byPladXDRT66"
      },
      "execution_count": null,
      "outputs": []
    },
    {
      "cell_type": "code",
      "source": [],
      "metadata": {
        "id": "Lm8PCfOR9Fue"
      },
      "execution_count": null,
      "outputs": []
    }
  ]
}