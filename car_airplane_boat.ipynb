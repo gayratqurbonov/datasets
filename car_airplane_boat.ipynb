{
  "nbformat": 4,
  "nbformat_minor": 0,
  "metadata": {
    "colab": {
      "private_outputs": true,
      "provenance": [],
      "gpuType": "T4",
      "authorship_tag": "ABX9TyNhQ86fPYPb8O3TqwThfW15",
      "include_colab_link": true
    },
    "kernelspec": {
      "name": "python3",
      "display_name": "Python 3"
    },
    "language_info": {
      "name": "python"
    },
    "accelerator": "GPU"
  },
  "cells": [
    {
      "cell_type": "markdown",
      "metadata": {
        "id": "view-in-github",
        "colab_type": "text"
      },
      "source": [
        "<a href=\"https://colab.research.google.com/github/gayratqurbonov/datasets/blob/main/car_airplane_boat.ipynb\" target=\"_parent\"><img src=\"https://colab.research.google.com/assets/colab-badge.svg\" alt=\"Open In Colab\"/></a>"
      ]
    },
    {
      "cell_type": "code",
      "execution_count": null,
      "metadata": {
        "id": "6ow5W2-BERF1"
      },
      "outputs": [],
      "source": [
        "# ! git clone https://github.com/EscVM/OIDv4_ToolKit.git\n",
        "# !cd OIDv4_ToolKit && pip install -r requirements.txt"
      ]
    },
    {
      "cell_type": "code",
      "source": [
        "# !cd OIDv4_ToolKit && python main.py -h\n"
      ],
      "metadata": {
        "id": "f_SIsQ6GHv-W"
      },
      "execution_count": null,
      "outputs": []
    },
    {
      "cell_type": "code",
      "source": [
        "!cd  OIDv4_ToolKit && python3 main.py downloader --Dataset /content --classes Car Airplane Boat --type_csv train --limit 200"
      ],
      "metadata": {
        "id": "lJht_9V9LFP5"
      },
      "execution_count": null,
      "outputs": []
    },
    {
      "cell_type": "code",
      "source": [
        "from fastai.vision.all import *\n",
        "from ipywidgets import widgets\n",
        "\n",
        "# path\n",
        "path = Path('train')\n",
        "# fls = get_image_files(path)\n",
        "# failed = verify_images(path)\n",
        "\n",
        "# Datablock yaratamiz\n",
        "transports = DataBlock(\n",
        "    blocks=(ImageBlock, CategoryBlock),\n",
        "    get_items = get_image_files,\n",
        "    splitter=RandomSplitter(valid_pct=0.2, seed=42),\n",
        "    get_y=parent_label,\n",
        "    item_tfms=Resize(224)\n",
        ")\n",
        "\n",
        "# Dataloader yaratamiz\n",
        "dls = transports.dataloaders(path)\n",
        "\n",
        "# datasetni tekshiramiz\n",
        "# dls.train.show_batch(max_n=32, nrows=4)\n",
        "\n",
        "# O'qitish (train)\n",
        "learn = cnn_learner(dls, resnet34, metrics=accuracy)\n",
        "learn.fine_tune(4)\n"
      ],
      "metadata": {
        "id": "MOewDDqDiPoY"
      },
      "execution_count": null,
      "outputs": []
    },
    {
      "cell_type": "code",
      "source": [
        "# tekshirish\n",
        "interp = ClassificationInterpretation.from_learner(learn)\n",
        "interp.plot_confusion_matrix()"
      ],
      "metadata": {
        "id": "U3vb98T2ixlF"
      },
      "execution_count": null,
      "outputs": []
    },
    {
      "cell_type": "code",
      "source": [
        "interp.plot_top_losses(5, nrows=1)"
      ],
      "metadata": {
        "id": "DCM8qalgot2b"
      },
      "execution_count": null,
      "outputs": []
    },
    {
      "cell_type": "markdown",
      "source": [
        "Modelni tekshirib ko'ramiz\n",
        "\n",
        "---\n",
        "\n"
      ],
      "metadata": {
        "id": "1B7-tVmhp_tY"
      }
    },
    {
      "cell_type": "code",
      "source": [
        "upload = widgets.FileUpload()\n",
        "upload"
      ],
      "metadata": {
        "id": "HxVsgen8qPsq"
      },
      "execution_count": null,
      "outputs": []
    },
    {
      "cell_type": "code",
      "source": [
        "img = PILImage.create(upload.data[-1])\n",
        "pred, pred_id, probs = learn.predict(img)\n",
        "print(f'Bashorat: {pred}')\n",
        "print(f'Ehtimollik: {probs[pred_id]*100:.1f}%')\n",
        "img"
      ],
      "metadata": {
        "id": "ttGd3dAwqcMn"
      },
      "execution_count": null,
      "outputs": []
    },
    {
      "cell_type": "code",
      "source": [],
      "metadata": {
        "id": "LjTET_mfru2E"
      },
      "execution_count": null,
      "outputs": []
    }
  ]
}