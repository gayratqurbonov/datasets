{
  "nbformat": 4,
  "nbformat_minor": 0,
  "metadata": {
    "colab": {
      "private_outputs": true,
      "provenance": [],
      "authorship_tag": "ABX9TyNOzl8Hx7sVNC2bMklT/5m6",
      "include_colab_link": true
    },
    "kernelspec": {
      "name": "python3",
      "display_name": "Python 3"
    },
    "language_info": {
      "name": "python"
    }
  },
  "cells": [
    {
      "cell_type": "markdown",
      "metadata": {
        "id": "view-in-github",
        "colab_type": "text"
      },
      "source": [
        "<a href=\"https://colab.research.google.com/github/gayratqurbonov/datasets/blob/main/misol_data_sets.ipynb\" target=\"_parent\"><img src=\"https://colab.research.google.com/assets/colab-badge.svg\" alt=\"Open In Colab\"/></a>"
      ]
    },
    {
      "cell_type": "code",
      "execution_count": null,
      "metadata": {
        "id": "Kh1-84S5ront"
      },
      "outputs": [],
      "source": [
        "from sklearn.datasets import make_regression\n",
        "import matplotlib.pyplot as plt\n",
        "\n",
        "# data\n",
        "data = make_regression(n_samples=40, n_features=1, noise=10, random_state=42)\n",
        "x_data, y_data = data[0], data[1]\n",
        "\n",
        "\n",
        "def classic_program(x): return x*70\n",
        "\n",
        "y_pred = [classic_program(x) for x in x_data]\n",
        "\n",
        "# plotting\n",
        "plt.scatter(x_data, y_data, label='Haqiqiy data sets')\n",
        "plt.plot(x_data, y_pred, 'r', label='Dastur')\n",
        "plt.xlabel('X')\n",
        "plt.ylabel('Y')\n",
        "plt.legend()\n",
        "plt.title('x*70')"
      ]
    },
    {
      "cell_type": "code",
      "source": [],
      "metadata": {
        "id": "1gMuGzMZucG6"
      },
      "execution_count": null,
      "outputs": []
    }
  ]
}